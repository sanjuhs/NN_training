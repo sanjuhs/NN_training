{
 "cells": [
  {
   "cell_type": "code",
   "execution_count": 11,
   "id": "8801b6b3",
   "metadata": {},
   "outputs": [
    {
     "name": "stdout",
     "output_type": "stream",
     "text": [
      "imported huggingface_hub\n",
      "files ['.gitattributes', 'README.md', 'audio_sequences.npy', 'dataset_metadata.json', 'target_sequences.npy', 'vad_sequences.npy']\n",
      "Time taken: 0.30 seconds\n",
      "files2 ['.gitattributes', 'ml_sanjay_assortmentSounds55_15min_dataset.mp4', 'ml_sanjay_calmSinging_15min_dataset.mp4', 'ml_sanjay_commentary_15min_dataset.mp4', 'ml_sanjay_explanationRnn_15min_dataset.mp4', 'ml_sanjay_frutratedAngry_15min_dataset.mp4']\n"
     ]
    }
   ],
   "source": [
    "# put this at the very top of your script/notebook\n",
    "import socket\n",
    "_orig_getaddrinfo = socket.getaddrinfo\n",
    "def _ipv4_only(host, port, family=0, type=0, proto=0, flags=0):\n",
    "    return _orig_getaddrinfo(host, port, socket.AF_INET, type, proto, flags)\n",
    "socket.getaddrinfo = _ipv4_only\n",
    "\n",
    "import  huggingface_hub\n",
    "from huggingface_hub import list_repo_files\n",
    "import time\n",
    "\n",
    "print(\"imported huggingface_hub\")\n",
    "repo_id = \"sanjuhs/audio_to_blendshapes_test\"\n",
    "repo_id2=\"sanjuhs/ml_video_dataset\"\n",
    "start = time.time()\n",
    "files = list_repo_files(repo_id, repo_type=\"dataset\")\n",
    "end = time.time()\n",
    "print(\"files\" , files)\n",
    "print(f\"Time taken: {end-start:.2f} seconds\")\n",
    "\n",
    "files2 = list_repo_files(repo_id2, repo_type=\"dataset\")\n",
    "print(\"files2\" , files2)"
   ]
  },
  {
   "cell_type": "code",
   "execution_count": 10,
   "id": "724bb4d3",
   "metadata": {},
   "outputs": [
    {
     "name": "stdout",
     "output_type": "stream",
     "text": [
      "quick fix implemented\n",
      "hello\n"
     ]
    },
    {
     "name": "stderr",
     "output_type": "stream",
     "text": [
      "Note: Environment variable`HF_TOKEN` is set and is the current active token independently from the token you've just configured.\n"
     ]
    },
    {
     "name": "stdout",
     "output_type": "stream",
     "text": [
      "logged in\n"
     ]
    }
   ],
   "source": [
    "# put this at the very top of your script/notebook\n",
    "import socket\n",
    "_orig_getaddrinfo = socket.getaddrinfo\n",
    "def _ipv4_only(host, port, family=0, type=0, proto=0, flags=0):\n",
    "    return _orig_getaddrinfo(host, port, socket.AF_INET, type, proto, flags)\n",
    "socket.getaddrinfo = _ipv4_only\n",
    "\n",
    "# now import HF libs\n",
    "from huggingface_hub import list_repo_files\n",
    "files = list_repo_files(\"sanjuhs/ml_video_dataset\", repo_type=\"dataset\")\n",
    "\n",
    "print(\"quick fix implemented\")\n",
    "\n",
    "\n",
    "from huggingface_hub import login\n",
    "import os\n",
    "from dotenv import load_dotenv\n",
    "print(\"hello\")\n",
    "load_dotenv()\n",
    "# print(\"HF_TOKEN\" , os.getenv(\"HF_TOKEN\"))\n",
    "HF_TOKEN = os.getenv(\"HF_TOKEN\")\n",
    "# print(\"HF_TOKEN\" , HF_TOKEN)\n",
    "login(HF_TOKEN)\n",
    "print(\"logged in\")"
   ]
  },
  {
   "cell_type": "code",
   "execution_count": null,
   "id": "431b7d86",
   "metadata": {},
   "outputs": [],
   "source": []
  }
 ],
 "metadata": {
  "kernelspec": {
   "display_name": ".venv",
   "language": "python",
   "name": "python3"
  },
  "language_info": {
   "codemirror_mode": {
    "name": "ipython",
    "version": 3
   },
   "file_extension": ".py",
   "mimetype": "text/x-python",
   "name": "python",
   "nbconvert_exporter": "python",
   "pygments_lexer": "ipython3",
   "version": "3.12.3"
  }
 },
 "nbformat": 4,
 "nbformat_minor": 5
}
